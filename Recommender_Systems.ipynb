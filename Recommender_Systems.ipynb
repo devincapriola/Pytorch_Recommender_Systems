{
  "cells": [
    {
      "cell_type": "code",
      "execution_count": 1,
      "metadata": {
        "id": "jJyngV4Fjnbv"
      },
      "outputs": [],
      "source": [
        "import torch\n",
        "import torch.nn as nn\n",
        "import torch.nn.functional as F\n",
        "import numpy as np\n",
        "import pandas as pd\n",
        "import matplotlib.pyplot as plt\n",
        "from datetime import datetime\n",
        "from sklearn.utils import shuffle"
      ]
    },
    {
      "cell_type": "code",
      "source": [
        "# data is from https://grouplens.org/datasets/movielens/\n",
        "!wget -nc https://files.grouplens.org/datasets/movielens/ml-20m.zip"
      ],
      "metadata": {
        "colab": {
          "base_uri": "https://localhost:8080/"
        },
        "id": "olNnN5AZYGYR",
        "outputId": "c45d23f5-af5d-45a1-9fab-9873797bc291"
      },
      "execution_count": 2,
      "outputs": [
        {
          "output_type": "stream",
          "name": "stdout",
          "text": [
            "File ‘ml-20m.zip’ already there; not retrieving.\n",
            "\n"
          ]
        }
      ]
    },
    {
      "cell_type": "code",
      "source": [
        "!unzip -n ml-20m.zip"
      ],
      "metadata": {
        "colab": {
          "base_uri": "https://localhost:8080/"
        },
        "id": "VHz_qsjsYWWp",
        "outputId": "3a029981-481e-4b39-ce3b-92bc6c0024c5"
      },
      "execution_count": 3,
      "outputs": [
        {
          "output_type": "stream",
          "name": "stdout",
          "text": [
            "Archive:  ml-20m.zip\n"
          ]
        }
      ]
    },
    {
      "cell_type": "code",
      "source": [
        "!ls"
      ],
      "metadata": {
        "colab": {
          "base_uri": "https://localhost:8080/"
        },
        "id": "JBPoVnYYYeGt",
        "outputId": "d4f438a4-c163-465e-f28d-246b3a4e8c4e"
      },
      "execution_count": 4,
      "outputs": [
        {
          "output_type": "stream",
          "name": "stdout",
          "text": [
            "ml-20m\tml-20m.zip  sample_data\n"
          ]
        }
      ]
    },
    {
      "cell_type": "code",
      "source": [
        "df = pd.read_csv('ml-20m/ratings.csv')\n",
        "df.head()"
      ],
      "metadata": {
        "colab": {
          "base_uri": "https://localhost:8080/",
          "height": 206
        },
        "id": "1AWOmNRPYgHm",
        "outputId": "e690b7a0-cf3c-48c5-cc22-e89f78ff1b2b"
      },
      "execution_count": 5,
      "outputs": [
        {
          "output_type": "execute_result",
          "data": {
            "text/plain": [
              "   userId  movieId  rating   timestamp\n",
              "0       1        2     3.5  1112486027\n",
              "1       1       29     3.5  1112484676\n",
              "2       1       32     3.5  1112484819\n",
              "3       1       47     3.5  1112484727\n",
              "4       1       50     3.5  1112484580"
            ],
            "text/html": [
              "\n",
              "  <div id=\"df-4096735b-3d59-443b-b244-da3ab326f2d5\">\n",
              "    <div class=\"colab-df-container\">\n",
              "      <div>\n",
              "<style scoped>\n",
              "    .dataframe tbody tr th:only-of-type {\n",
              "        vertical-align: middle;\n",
              "    }\n",
              "\n",
              "    .dataframe tbody tr th {\n",
              "        vertical-align: top;\n",
              "    }\n",
              "\n",
              "    .dataframe thead th {\n",
              "        text-align: right;\n",
              "    }\n",
              "</style>\n",
              "<table border=\"1\" class=\"dataframe\">\n",
              "  <thead>\n",
              "    <tr style=\"text-align: right;\">\n",
              "      <th></th>\n",
              "      <th>userId</th>\n",
              "      <th>movieId</th>\n",
              "      <th>rating</th>\n",
              "      <th>timestamp</th>\n",
              "    </tr>\n",
              "  </thead>\n",
              "  <tbody>\n",
              "    <tr>\n",
              "      <th>0</th>\n",
              "      <td>1</td>\n",
              "      <td>2</td>\n",
              "      <td>3.5</td>\n",
              "      <td>1112486027</td>\n",
              "    </tr>\n",
              "    <tr>\n",
              "      <th>1</th>\n",
              "      <td>1</td>\n",
              "      <td>29</td>\n",
              "      <td>3.5</td>\n",
              "      <td>1112484676</td>\n",
              "    </tr>\n",
              "    <tr>\n",
              "      <th>2</th>\n",
              "      <td>1</td>\n",
              "      <td>32</td>\n",
              "      <td>3.5</td>\n",
              "      <td>1112484819</td>\n",
              "    </tr>\n",
              "    <tr>\n",
              "      <th>3</th>\n",
              "      <td>1</td>\n",
              "      <td>47</td>\n",
              "      <td>3.5</td>\n",
              "      <td>1112484727</td>\n",
              "    </tr>\n",
              "    <tr>\n",
              "      <th>4</th>\n",
              "      <td>1</td>\n",
              "      <td>50</td>\n",
              "      <td>3.5</td>\n",
              "      <td>1112484580</td>\n",
              "    </tr>\n",
              "  </tbody>\n",
              "</table>\n",
              "</div>\n",
              "      <button class=\"colab-df-convert\" onclick=\"convertToInteractive('df-4096735b-3d59-443b-b244-da3ab326f2d5')\"\n",
              "              title=\"Convert this dataframe to an interactive table.\"\n",
              "              style=\"display:none;\">\n",
              "        \n",
              "  <svg xmlns=\"http://www.w3.org/2000/svg\" height=\"24px\"viewBox=\"0 0 24 24\"\n",
              "       width=\"24px\">\n",
              "    <path d=\"M0 0h24v24H0V0z\" fill=\"none\"/>\n",
              "    <path d=\"M18.56 5.44l.94 2.06.94-2.06 2.06-.94-2.06-.94-.94-2.06-.94 2.06-2.06.94zm-11 1L8.5 8.5l.94-2.06 2.06-.94-2.06-.94L8.5 2.5l-.94 2.06-2.06.94zm10 10l.94 2.06.94-2.06 2.06-.94-2.06-.94-.94-2.06-.94 2.06-2.06.94z\"/><path d=\"M17.41 7.96l-1.37-1.37c-.4-.4-.92-.59-1.43-.59-.52 0-1.04.2-1.43.59L10.3 9.45l-7.72 7.72c-.78.78-.78 2.05 0 2.83L4 21.41c.39.39.9.59 1.41.59.51 0 1.02-.2 1.41-.59l7.78-7.78 2.81-2.81c.8-.78.8-2.07 0-2.86zM5.41 20L4 18.59l7.72-7.72 1.47 1.35L5.41 20z\"/>\n",
              "  </svg>\n",
              "      </button>\n",
              "      \n",
              "  <style>\n",
              "    .colab-df-container {\n",
              "      display:flex;\n",
              "      flex-wrap:wrap;\n",
              "      gap: 12px;\n",
              "    }\n",
              "\n",
              "    .colab-df-convert {\n",
              "      background-color: #E8F0FE;\n",
              "      border: none;\n",
              "      border-radius: 50%;\n",
              "      cursor: pointer;\n",
              "      display: none;\n",
              "      fill: #1967D2;\n",
              "      height: 32px;\n",
              "      padding: 0 0 0 0;\n",
              "      width: 32px;\n",
              "    }\n",
              "\n",
              "    .colab-df-convert:hover {\n",
              "      background-color: #E2EBFA;\n",
              "      box-shadow: 0px 1px 2px rgba(60, 64, 67, 0.3), 0px 1px 3px 1px rgba(60, 64, 67, 0.15);\n",
              "      fill: #174EA6;\n",
              "    }\n",
              "\n",
              "    [theme=dark] .colab-df-convert {\n",
              "      background-color: #3B4455;\n",
              "      fill: #D2E3FC;\n",
              "    }\n",
              "\n",
              "    [theme=dark] .colab-df-convert:hover {\n",
              "      background-color: #434B5C;\n",
              "      box-shadow: 0px 1px 3px 1px rgba(0, 0, 0, 0.15);\n",
              "      filter: drop-shadow(0px 1px 2px rgba(0, 0, 0, 0.3));\n",
              "      fill: #FFFFFF;\n",
              "    }\n",
              "  </style>\n",
              "\n",
              "      <script>\n",
              "        const buttonEl =\n",
              "          document.querySelector('#df-4096735b-3d59-443b-b244-da3ab326f2d5 button.colab-df-convert');\n",
              "        buttonEl.style.display =\n",
              "          google.colab.kernel.accessAllowed ? 'block' : 'none';\n",
              "\n",
              "        async function convertToInteractive(key) {\n",
              "          const element = document.querySelector('#df-4096735b-3d59-443b-b244-da3ab326f2d5');\n",
              "          const dataTable =\n",
              "            await google.colab.kernel.invokeFunction('convertToInteractive',\n",
              "                                                     [key], {});\n",
              "          if (!dataTable) return;\n",
              "\n",
              "          const docLinkHtml = 'Like what you see? Visit the ' +\n",
              "            '<a target=\"_blank\" href=https://colab.research.google.com/notebooks/data_table.ipynb>data table notebook</a>'\n",
              "            + ' to learn more about interactive tables.';\n",
              "          element.innerHTML = '';\n",
              "          dataTable['output_type'] = 'display_data';\n",
              "          await google.colab.output.renderOutput(dataTable, element);\n",
              "          const docLink = document.createElement('div');\n",
              "          docLink.innerHTML = docLinkHtml;\n",
              "          element.appendChild(docLink);\n",
              "        }\n",
              "      </script>\n",
              "    </div>\n",
              "  </div>\n",
              "  "
            ]
          },
          "metadata": {},
          "execution_count": 5
        }
      ]
    },
    {
      "cell_type": "code",
      "source": [
        "df.userId = pd.Categorical(df.userId)\n",
        "df['new_user_id'] = df.userId.cat.codes"
      ],
      "metadata": {
        "id": "KtlyoUy5YkkA"
      },
      "execution_count": 6,
      "outputs": []
    },
    {
      "cell_type": "code",
      "source": [
        "df.movieId = pd.Categorical(df.movieId)\n",
        "df['new_movie_id'] = df.movieId.cat.codes"
      ],
      "metadata": {
        "id": "klclajFTY0v3"
      },
      "execution_count": 7,
      "outputs": []
    },
    {
      "cell_type": "code",
      "source": [
        "# Get user IDs and movie IDs, and ratings as separate arrays\n",
        "user_ids = df['new_user_id'].values\n",
        "movie_ids = df['new_movie_id'].values\n",
        "ratings = df['rating'].values - 2.5"
      ],
      "metadata": {
        "id": "6Kw_09alZIsZ"
      },
      "execution_count": 8,
      "outputs": []
    },
    {
      "cell_type": "code",
      "source": [
        "# Get number of users and movies\n",
        "N = len(set(user_ids))\n",
        "M = len(set(movie_ids))\n",
        "\n",
        "# Set embedding dimension\n",
        "D = 10"
      ],
      "metadata": {
        "id": "VBr9-QqEZaYC"
      },
      "execution_count": 9,
      "outputs": []
    },
    {
      "cell_type": "code",
      "source": [
        "# neural network\n",
        "class Model(nn.Module):\n",
        "    def __init__(self, n_users, n_items, embed_dim, n_hidden=1024):\n",
        "        super(Model, self).__init__()\n",
        "        self.N = n_users\n",
        "        self.M = n_items\n",
        "        self.D = embed_dim\n",
        "\n",
        "        self.u_emb = nn.Embedding(n_users, embed_dim)\n",
        "        self.m_emb = nn.Embedding(n_items, embed_dim)\n",
        "        self.fc1 = nn.Linear(2*embed_dim, n_hidden)\n",
        "        self.fc2 = nn.Linear(n_hidden, 1)\n",
        "\n",
        "    def forward(self, u, m):\n",
        "        u = self.u_emb(u)\n",
        "        m = self.m_emb(m)\n",
        "        out = torch.cat([u, m], 1)\n",
        "        out = self.fc1(out)\n",
        "        out = F.relu(out)\n",
        "        out = self.fc2(out)\n",
        "        return out"
      ],
      "metadata": {
        "id": "HxohD3RoZk_Y"
      },
      "execution_count": 10,
      "outputs": []
    },
    {
      "cell_type": "code",
      "source": [
        "device = torch.device(\"cuda:0\" if torch.cuda.is_available() else \"cpu\")\n",
        "print(\"Using device:\", device)"
      ],
      "metadata": {
        "colab": {
          "base_uri": "https://localhost:8080/"
        },
        "id": "swibRhTEaK-a",
        "outputId": "8cc6af19-239e-4887-f6dd-4d87fb4a6cbe"
      },
      "execution_count": 11,
      "outputs": [
        {
          "output_type": "stream",
          "name": "stdout",
          "text": [
            "Using device: cuda:0\n"
          ]
        }
      ]
    },
    {
      "cell_type": "code",
      "source": [
        "model = Model(N, M, D)\n",
        "model.to(device)"
      ],
      "metadata": {
        "colab": {
          "base_uri": "https://localhost:8080/"
        },
        "id": "cwxafKPraQLN",
        "outputId": "45e7a620-b73d-4831-fd8c-ef82a6116823"
      },
      "execution_count": 12,
      "outputs": [
        {
          "output_type": "execute_result",
          "data": {
            "text/plain": [
              "Model(\n",
              "  (u_emb): Embedding(138493, 10)\n",
              "  (m_emb): Embedding(26744, 10)\n",
              "  (fc1): Linear(in_features=20, out_features=1024, bias=True)\n",
              "  (fc2): Linear(in_features=1024, out_features=1, bias=True)\n",
              ")"
            ]
          },
          "metadata": {},
          "execution_count": 12
        }
      ]
    },
    {
      "cell_type": "code",
      "source": [
        "# Loss and optimizer\n",
        "criterion = nn.MSELoss()\n",
        "optimizer = torch.optim.Adam(model.parameters())"
      ],
      "metadata": {
        "id": "vfTCcEjOadjz"
      },
      "execution_count": 13,
      "outputs": []
    },
    {
      "cell_type": "code",
      "source": [
        "# Shuffle the data in corresponding order\n",
        "user_ids, movie_ids, ratings = shuffle(user_ids, movie_ids, ratings)"
      ],
      "metadata": {
        "id": "ecNsYmJWalY3"
      },
      "execution_count": 14,
      "outputs": []
    },
    {
      "cell_type": "code",
      "source": [
        "# Convert to tensors\n",
        "user_ids_t = torch.from_numpy(user_ids).long()\n",
        "movie_ids_t = torch.from_numpy(movie_ids).long()\n",
        "ratings_t = torch.from_numpy(ratings)"
      ],
      "metadata": {
        "id": "diFENyiparwS"
      },
      "execution_count": 15,
      "outputs": []
    },
    {
      "cell_type": "code",
      "source": [
        "# Make dataset\n",
        "Ntrain = int(0.8 * len(ratings))\n",
        "train_dataset = torch.utils.data.TensorDataset(user_ids_t[:Ntrain], movie_ids_t[:Ntrain], ratings_t[:Ntrain])\n",
        "test_dataset = torch.utils.data.TensorDataset(user_ids_t[Ntrain:], movie_ids_t[Ntrain:], ratings_t[Ntrain:])"
      ],
      "metadata": {
        "id": "kVuAd8lXazOu"
      },
      "execution_count": 16,
      "outputs": []
    },
    {
      "cell_type": "code",
      "source": [
        "# Data loaders\n",
        "batch_size = 512\n",
        "train_loader = torch.utils.data.DataLoader(train_dataset, batch_size=batch_size, shuffle=True)\n",
        "test_loader = torch.utils.data.DataLoader(test_dataset, batch_size=batch_size, shuffle=False)"
      ],
      "metadata": {
        "id": "gwRG6WyCa_bk"
      },
      "execution_count": 17,
      "outputs": []
    },
    {
      "cell_type": "code",
      "source": [
        "# a function to encapsulate the training loop\n",
        "def batch_gd(model, criterion, optimizer, train_iter, test_iter, epochs):\n",
        "    train_losses = np.zeros(epochs)\n",
        "    test_losses = np.zeros(epochs)\n",
        "\n",
        "    for it in range(epochs):\n",
        "        t0 = datetime.now()\n",
        "        train_loss = []\n",
        "        for users, movies, targets in train_loader:\n",
        "            targets = targets.view(-1, 1).float()\n",
        "\n",
        "            # move data to GPU\n",
        "            users, movies, targets = users.to(device), movies.to(device), targets.to(device)\n",
        "\n",
        "            # zero the parameter gradients\n",
        "            optimizer.zero_grad()\n",
        "\n",
        "            # forward pass\n",
        "            outputs = model(users, movies)\n",
        "            loss = criterion(outputs, targets)\n",
        "\n",
        "            # backward and optimize\n",
        "            loss.backward()\n",
        "            optimizer.step()\n",
        "\n",
        "            train_loss.append(loss.item())\n",
        "\n",
        "        # Get train loss and test loss\n",
        "        train_loss = np.mean(train_loss)\n",
        "\n",
        "        test_loss = []\n",
        "        for users, movies, targets in test_loader:\n",
        "            users, movies, targets = users.to(device), movies.to(device), targets.to(device)\n",
        "            targets = targets.view(-1, 1).float()\n",
        "            outputs = model(users, movies)\n",
        "            loss = criterion(outputs, targets)\n",
        "            test_loss.append(loss.item())\n",
        "        test_loss = np.mean(test_loss)\n",
        "\n",
        "        # Save losses\n",
        "        train_losses[it] = train_loss\n",
        "        test_losses[it] = test_loss\n",
        "\n",
        "        dt = datetime.now() - t0\n",
        "        print(f'Epoch {it+1}/{epochs}, Train Loss: {train_loss:.4f}, Test Loss: {test_loss:.4f}, Duration: {dt}')\n",
        "    return train_losses, test_losses"
      ],
      "metadata": {
        "id": "BcST92GhbJuR"
      },
      "execution_count": 18,
      "outputs": []
    },
    {
      "cell_type": "code",
      "source": [
        "# profile this using %prun\n",
        "%prun train_losses, test_losses = batch_gd( \\\n",
        "    model, criterion, optimizer, train_loader, test_loader, 25)"
      ],
      "metadata": {
        "colab": {
          "base_uri": "https://localhost:8080/"
        },
        "id": "yvnCOFwNcCVU",
        "outputId": "26de0d6b-54fd-41bb-ac6a-5ebd79a8b5be"
      },
      "execution_count": 19,
      "outputs": [
        {
          "output_type": "stream",
          "name": "stdout",
          "text": [
            "Epoch 1/25, Train Loss: 0.8176, Test Loss: 0.7538, Duration: 0:05:10.184710\n",
            "Epoch 2/25, Train Loss: 0.7389, Test Loss: 0.7375, Duration: 0:04:54.270160\n",
            "Epoch 3/25, Train Loss: 0.7214, Test Loss: 0.7219, Duration: 0:04:55.098102\n",
            "Epoch 4/25, Train Loss: 0.7046, Test Loss: 0.7093, Duration: 0:04:53.348147\n",
            "Epoch 5/25, Train Loss: 0.6923, Test Loss: 0.7031, Duration: 0:04:54.939437\n",
            "Epoch 6/25, Train Loss: 0.6840, Test Loss: 0.6980, Duration: 0:04:53.476527\n",
            "Epoch 7/25, Train Loss: 0.6779, Test Loss: 0.6950, Duration: 0:04:53.078147\n",
            "Epoch 8/25, Train Loss: 0.6732, Test Loss: 0.6927, Duration: 0:04:50.716733\n",
            "Epoch 9/25, Train Loss: 0.6692, Test Loss: 0.6907, Duration: 0:04:51.531793\n",
            "Epoch 10/25, Train Loss: 0.6659, Test Loss: 0.6901, Duration: 0:04:50.166748\n",
            "Epoch 11/25, Train Loss: 0.6630, Test Loss: 0.6894, Duration: 0:04:51.036161\n",
            "Epoch 12/25, Train Loss: 0.6605, Test Loss: 0.6878, Duration: 0:04:50.484786\n",
            "Epoch 13/25, Train Loss: 0.6583, Test Loss: 0.6873, Duration: 0:04:50.896582\n",
            "Epoch 14/25, Train Loss: 0.6561, Test Loss: 0.6882, Duration: 0:04:50.139019\n",
            "Epoch 15/25, Train Loss: 0.6541, Test Loss: 0.6863, Duration: 0:04:51.526077\n",
            "Epoch 16/25, Train Loss: 0.6522, Test Loss: 0.6847, Duration: 0:04:51.924257\n",
            "Epoch 17/25, Train Loss: 0.6504, Test Loss: 0.6841, Duration: 0:04:54.103959\n",
            "Epoch 18/25, Train Loss: 0.6486, Test Loss: 0.6834, Duration: 0:04:54.043107\n",
            "Epoch 19/25, Train Loss: 0.6469, Test Loss: 0.6841, Duration: 0:04:53.278520\n",
            "Epoch 20/25, Train Loss: 0.6451, Test Loss: 0.6823, Duration: 0:04:52.458284\n",
            "Epoch 21/25, Train Loss: 0.6434, Test Loss: 0.6830, Duration: 0:04:51.856352\n",
            "Epoch 22/25, Train Loss: 0.6417, Test Loss: 0.6818, Duration: 0:04:53.901355\n",
            "Epoch 23/25, Train Loss: 0.6400, Test Loss: 0.6814, Duration: 0:04:51.420173\n",
            "Epoch 24/25, Train Loss: 0.6383, Test Loss: 0.6813, Duration: 0:04:51.886811\n",
            "Epoch 25/25, Train Loss: 0.6366, Test Loss: 0.6821, Duration: 0:04:51.739980\n",
            " "
          ]
        }
      ]
    },
    {
      "cell_type": "code",
      "source": [
        "# Plot the train and test losses\n",
        "plt.plot(train_losses, label='train loss')\n",
        "plt.plot(test_losses, label='test loss')\n",
        "plt.legend()\n",
        "plt.show()"
      ],
      "metadata": {
        "id": "3IoMdrVocVHe"
      },
      "execution_count": 19,
      "outputs": []
    }
  ],
  "metadata": {
    "accelerator": "GPU",
    "colab": {
      "collapsed_sections": [],
      "provenance": []
    },
    "kernelspec": {
      "display_name": "Python 3",
      "name": "python3"
    }
  },
  "nbformat": 4,
  "nbformat_minor": 0
}